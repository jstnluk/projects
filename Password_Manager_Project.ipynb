{
  "nbformat": 4,
  "nbformat_minor": 0,
  "metadata": {
    "colab": {
      "provenance": [],
      "authorship_tag": "ABX9TyM5RtquXksYFfWWTf6k5Aj+",
      "include_colab_link": true
    },
    "kernelspec": {
      "name": "python3",
      "display_name": "Python 3"
    },
    "language_info": {
      "name": "python"
    }
  },
  "cells": [
    {
      "cell_type": "markdown",
      "metadata": {
        "id": "view-in-github",
        "colab_type": "text"
      },
      "source": [
        "<a href=\"https://colab.research.google.com/github/jstnluk/projects/blob/main/Password_Manager_Project.ipynb\" target=\"_parent\"><img src=\"https://colab.research.google.com/assets/colab-badge.svg\" alt=\"Open In Colab\"/></a>"
      ]
    },
    {
      "cell_type": "code",
      "execution_count": 3,
      "metadata": {
        "id": "X1LlSNHE8N0S"
      },
      "outputs": [],
      "source": [
        "import hashlib\n",
        "import getpass\n",
        "\n",
        "password_manager = {}\n",
        "\n",
        "def create_account():\n",
        "    username = input(\"Enter a username: \")\n",
        "    password = getpass.getpass(\"Enter your desired password: \")\n",
        "    hashed_password = hashlib.sha256(password.encode()).hexdigest()\n",
        "    password_manager[username] = hashed_password\n",
        "    print(\"Account created sucessfully!\")"
      ]
    },
    {
      "cell_type": "code",
      "source": [
        "def login():\n",
        "  username = input(\"Enter your username: \")\n",
        "  password = getpass.getpass(\"Enter your password: \")\n",
        "  hashed_password = hashlib.sha256(password.encode()).hexdigest()\n",
        "  if username in password_manager and password_manager[username] == hashed_password:\n",
        "    print(\"Login sucessful!\")\n",
        "  else:\n",
        "    print(\"Invalid username or password.\")"
      ],
      "metadata": {
        "id": "q4MMIf7U94pF"
      },
      "execution_count": null,
      "outputs": []
    },
    {
      "cell_type": "code",
      "source": [
        "def main():\n",
        "  while True:\n",
        "    choice = input(\"Enter your choice (0-2): \")\n",
        "    if choice == \"1\":\n",
        "      create_account()\n",
        "    elif choice == \"2\":\n",
        "      login()\n",
        "    elif choice == \"0\":\n",
        "      break\n",
        "    else:\n",
        "      print(\"Invalid choice. Please try again.\")"
      ],
      "metadata": {
        "id": "UYxgpfYY-Ov8"
      },
      "execution_count": 14,
      "outputs": []
    },
    {
      "cell_type": "code",
      "source": [
        "if __name__ == \"__main__\":\n",
        "  main()"
      ],
      "metadata": {
        "id": "J-YYdC3uGRLY"
      },
      "execution_count": null,
      "outputs": []
    },
    {
      "cell_type": "markdown",
      "source": [
        "Resources: https://www.youtube.com/watch?v=tbhYxd2sfAE, Google Colab"
      ],
      "metadata": {
        "id": "BCR98BUNGSog"
      }
    },
    {
      "cell_type": "code",
      "source": [],
      "metadata": {
        "colab": {
          "base_uri": "https://localhost:8080/"
        },
        "id": "-iIfsZTKE_u5",
        "outputId": "185b338a-dfa4-4ab8-f422-08561915ed24"
      },
      "execution_count": null,
      "outputs": [
        {
          "output_type": "stream",
          "name": "stdout",
          "text": [
            "Enter your choice (0-2): 2\n",
            "Enter your username: Usertest\n",
            "Enter your password: ··········\n",
            "Login sucessful!\n"
          ]
        }
      ]
    }
  ]
}
