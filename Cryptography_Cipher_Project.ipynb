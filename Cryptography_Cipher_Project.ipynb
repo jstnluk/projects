{
  "nbformat": 4,
  "nbformat_minor": 0,
  "metadata": {
    "colab": {
      "provenance": [],
      "authorship_tag": "ABX9TyM3s343tvh8iYoVfeKcTfxJ",
      "include_colab_link": true
    },
    "kernelspec": {
      "name": "python3",
      "display_name": "Python 3"
    },
    "language_info": {
      "name": "python"
    }
  },
  "cells": [
    {
      "cell_type": "markdown",
      "metadata": {
        "id": "view-in-github",
        "colab_type": "text"
      },
      "source": [
        "<a href=\"https://colab.research.google.com/github/jstnluk/python-projects/blob/main/Cryptography_Cipher_Project.ipynb\" target=\"_parent\"><img src=\"https://colab.research.google.com/assets/colab-badge.svg\" alt=\"Open In Colab\"/></a>"
      ]
    },
    {
      "cell_type": "code",
      "execution_count": 1,
      "metadata": {
        "id": "C0O2go1D_pV5"
      },
      "outputs": [],
      "source": [
        "import string"
      ]
    },
    {
      "cell_type": "code",
      "source": [
        "def caesar_encrypt(message, key):\n",
        "\n",
        "  shift = key % 26\n",
        "  cipher = str.maketrans(string.ascii_lowercase, string.ascii_lowercase[shift:] + string.ascii_lowercase[:shift])\n",
        "\n",
        "  encrypted_message = message.lower().translate(cipher)\n",
        "\n",
        "  return encrypted_message\n",
        "\n",
        "  return message.lower().translate(cipher)"
      ],
      "metadata": {
        "id": "X_obKkCk_2I2"
      },
      "execution_count": 3,
      "outputs": []
    },
    {
      "cell_type": "code",
      "source": [
        "def caesar_decrypt(encrupted_message, key):\n",
        "  shift = 26 - (key % 26)\n",
        "  cipher = str.maketrans(string.ascii_lowercase, string.ascii_lowercase[shift:] + string.ascii_lowercase[:shift])\n",
        "  message = encrupted_message.lower().translate(cipher)\n",
        "  return message"
      ],
      "metadata": {
        "id": "zwVr7n6nARob"
      },
      "execution_count": 13,
      "outputs": []
    },
    {
      "cell_type": "code",
      "source": [
        "message = 'Test message'\n",
        "key = 3"
      ],
      "metadata": {
        "id": "LMmqlW4hA9L5"
      },
      "execution_count": 14,
      "outputs": []
    },
    {
      "cell_type": "code",
      "source": [
        "encrypted_message = caesar_encrypt(message, key)\n",
        "print(f'Encrypted message: {encrypted_message}')"
      ],
      "metadata": {
        "colab": {
          "base_uri": "https://localhost:8080/",
          "height": 0
        },
        "id": "XQ7MCBHbBDIX",
        "outputId": "b1818d04-6fc6-418d-ab20-b210f1c20340"
      },
      "execution_count": 15,
      "outputs": [
        {
          "output_type": "stream",
          "name": "stdout",
          "text": [
            "Encrypted message: whvw phvvdjh\n"
          ]
        }
      ]
    },
    {
      "cell_type": "code",
      "source": [
        "decrypted_message = caesar_decrypt(encrypted_message, key)\n",
        "print(f'Decrypted message: {decrypted_message}')"
      ],
      "metadata": {
        "colab": {
          "base_uri": "https://localhost:8080/",
          "height": 0
        },
        "id": "BWvEINrABKyY",
        "outputId": "70685d0a-7d42-4772-9c49-e810986f8af0"
      },
      "execution_count": 16,
      "outputs": [
        {
          "output_type": "stream",
          "name": "stdout",
          "text": [
            "Decrypted message: test message\n"
          ]
        }
      ]
    },
    {
      "cell_type": "markdown",
      "source": [
        "Resources: https://www.youtube.com/watch?v=tbhYxd2sfAE, Google Colab"
      ],
      "metadata": {
        "id": "YcRYBFUFBZ0y"
      }
    }
  ]
}