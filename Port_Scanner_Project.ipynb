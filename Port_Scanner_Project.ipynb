{
  "nbformat": 4,
  "nbformat_minor": 0,
  "metadata": {
    "colab": {
      "provenance": [],
      "authorship_tag": "ABX9TyM0GVyhgFfMsNiux2+G7lFL",
      "include_colab_link": true
    },
    "kernelspec": {
      "name": "python3",
      "display_name": "Python 3"
    },
    "language_info": {
      "name": "python"
    }
  },
  "cells": [
    {
      "cell_type": "markdown",
      "metadata": {
        "id": "view-in-github",
        "colab_type": "text"
      },
      "source": [
        "<a href=\"https://colab.research.google.com/github/jstnluk/projects/blob/main/Port_Scanner_Project.ipynb\" target=\"_parent\"><img src=\"https://colab.research.google.com/assets/colab-badge.svg\" alt=\"Open In Colab\"/></a>"
      ]
    },
    {
      "cell_type": "code",
      "execution_count": 19,
      "metadata": {
        "id": "dUI-JJFzHDOS"
      },
      "outputs": [],
      "source": [
        "import socket\n",
        "from datetime import datetime"
      ]
    },
    {
      "cell_type": "code",
      "source": [
        "def scan_ports(ip_address, start_port, end_port):\n",
        "    print(f\"\\nStarting scan on IP: {ip_address}\")\n",
        "    print(f\"Scanning ports {start_port} to {end_port}\\n\")\n",
        "\n",
        "    # Record start time\n",
        "    start_time = datetime.now()"
      ],
      "metadata": {
        "id": "ypQxNSRjIe3_"
      },
      "execution_count": 20,
      "outputs": []
    },
    {
      "cell_type": "code",
      "source": [
        "import socket\n",
        "from datetime import datetime\n",
        "\n",
        "# Define the IP address and port range\n",
        "ip_address = \"45.33.32.156\"\n",
        "start_port = 1  # Starting port\n",
        "end_port = 1000  # Ending port\n",
        "\n",
        "print(f\"\\nStarting scan on IP: {ip_address}\")\n",
        "print(f\"Scanning ports {start_port} to {end_port}\\n\")\n",
        "\n",
        "# Record start time\n",
        "start_time = datetime.now()\n",
        "\n",
        "try:\n",
        "    for port in range(start_port, end_port + 1):\n",
        "        # Create a socket\n",
        "        with socket.socket(socket.AF_INET, socket.SOCK_STREAM) as sock:\n",
        "            # Set timeout for faster scanning\n",
        "            sock.settimeout(0.5)\n",
        "\n",
        "            # Attempt to connect\n",
        "            result = sock.connect_ex((ip_address, port))\n",
        "\n",
        "            # Check if port is open\n",
        "            if result == 0:\n",
        "                print(f\"Port {port}: Open\")\n",
        "except KeyboardInterrupt:\n",
        "    print(\"\\nScan interrupted by user.\")\n",
        "except socket.error as e:\n",
        "    print(f\"\\nSocket error: {e}\")\n",
        "\n",
        "# Record end time\n",
        "end_time = datetime.now()\n",
        "print(f\"\\nScan completed in: {end_time - start_time}\")"
      ],
      "metadata": {
        "colab": {
          "base_uri": "https://localhost:8080/",
          "height": 0
        },
        "id": "bNjeyWmnJe9a",
        "outputId": "e453445c-36b0-49b3-843a-2d3aff3eaa1e"
      },
      "execution_count": 29,
      "outputs": [
        {
          "output_type": "stream",
          "name": "stdout",
          "text": [
            "\n",
            "Starting scan on IP: 45.33.32.156\n",
            "Scanning ports 1 to 1000\n",
            "\n",
            "Port 22: Open\n",
            "Port 80: Open\n",
            "\n",
            "Scan completed in: 0:00:20.568454\n"
          ]
        }
      ]
    },
    {
      "cell_type": "markdown",
      "source": [
        "Resources: https://www.youtube.com/watch?v=tbhYxd2sfAE, ChatGpt 4.0, Google Colab"
      ],
      "metadata": {
        "id": "-fPBRUakLZ6T"
      }
    }
  ]
}