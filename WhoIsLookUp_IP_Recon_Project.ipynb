{
  "nbformat": 4,
  "nbformat_minor": 0,
  "metadata": {
    "colab": {
      "provenance": [],
      "authorship_tag": "ABX9TyNKi7WJ+as1RVQXrDAGUJHs",
      "include_colab_link": true
    },
    "kernelspec": {
      "name": "python3",
      "display_name": "Python 3"
    },
    "language_info": {
      "name": "python"
    }
  },
  "cells": [
    {
      "cell_type": "markdown",
      "metadata": {
        "id": "view-in-github",
        "colab_type": "text"
      },
      "source": [
        "<a href=\"https://colab.research.google.com/github/jstnluk/python-projects/blob/main/WhoIsLookUp_IP_Recon_Project.ipynb\" target=\"_parent\"><img src=\"https://colab.research.google.com/assets/colab-badge.svg\" alt=\"Open In Colab\"/></a>"
      ]
    },
    {
      "cell_type": "code",
      "execution_count": 1,
      "metadata": {
        "id": "U8TMKywTCg4G"
      },
      "outputs": [],
      "source": [
        "import socket\n"
      ]
    },
    {
      "cell_type": "code",
      "source": [
        "def whois_lookup(domain: str):\n",
        "  s = socket.socket(socket.AF_INET,\n",
        "  socket.SOCK_STREAM)\n",
        "  s.connect((\"whois.iana.org\", 43))\n",
        "  s.send (f\"{domain}\\r\\n\".encode())\n",
        "  response = s.recv(4096).decode()\n",
        "  s.close()\n",
        "  return response"
      ],
      "metadata": {
        "id": "ZXVsKfTfC86E"
      },
      "execution_count": 9,
      "outputs": []
    },
    {
      "cell_type": "code",
      "source": [
        "print(whois_lookup(\"google.com\"))"
      ],
      "metadata": {
        "colab": {
          "base_uri": "https://localhost:8080/",
          "height": 0
        },
        "id": "r9Lau5umEE0U",
        "outputId": "7f950c8a-18ca-4f38-85bd-3da230054fd7"
      },
      "execution_count": 10,
      "outputs": [
        {
          "output_type": "stream",
          "name": "stdout",
          "text": [
            "% IANA WHOIS server\n",
            "% for more information on IANA, visit http://www.iana.org\n",
            "% This query returned 1 object\n",
            "\n",
            "refer:        whois.verisign-grs.com\n",
            "\n",
            "domain:       COM\n",
            "\n",
            "organisation: VeriSign Global Registry Services\n",
            "address:      12061 Bluemont Way\n",
            "address:      Reston VA 20190\n",
            "address:      United States of America (the)\n",
            "\n",
            "contact:      administrative\n",
            "name:         Registry Customer Service\n",
            "organisation: VeriSign Global Registry Services\n",
            "address:      12061 Bluemont Way\n",
            "address:      Reston VA 20190\n",
            "address:      United States of America (the)\n",
            "phone:        +1 703 925-6999\n",
            "fax-no:       +1 703 948 3978\n",
            "e-mail:       info@verisign-grs.com\n",
            "\n",
            "contact:      technical\n",
            "name:         Registry Customer Service\n",
            "organisation: VeriSign Global Registry Services\n",
            "address:      12061 Bluemont Way\n",
            "address:      Reston VA 20190\n",
            "address:      United States of America (the)\n",
            "phone:        +1 703 925-6999\n",
            "fax-no:       +1 703 948 3978\n",
            "e-mail:       info@verisign-grs.com\n",
            "\n",
            "nserver:      A.GTLD-SERVERS.NET 192.5.6.30 2001:503:a83e:0:0:0:2:30\n",
            "nserver:      B.GTLD-SERVERS.NET 192.33.14.30 2001:503:231d:0:0:0:2:30\n",
            "nserver:      C.GTLD-SERVERS.NET 192.26.92.30 2001:503:83eb:0:0:0:0:30\n",
            "nserver:      D.GTLD-SERVERS.NET 192.31.80.30 2001:500:856e:0:0:0:0:30\n",
            "nserver:      E.GTLD-SERVERS.NET 192.12.94.30 2001:502:1ca1:0:0:0:0:30\n",
            "nserver:      F.GTLD-SERVERS.NET 192.35.51.30 2001:503:d414:0:0:0:0:30\n",
            "nserver:      G.GTLD-SERVERS.NET 192.42.93.30 2001:503:eea3:0:0:0:0:30\n",
            "nserver:      H.GTLD-SERVERS.NET 192.54.112.30 2001:502:8cc:0:0:0:0:30\n",
            "nserver:      I.GTLD-SERVERS.NET 192.43.172.30 2001:503:39c1:0:0:0:0:30\n",
            "nserver:      J.GTLD-SERVERS.NET 192.48.79.30 2001:502:7094:0:0:0:0:30\n",
            "nserver:      K.GTLD-SERVERS.NET 192.52.178.30 2001:503:d2d:0:0:0:0:30\n",
            "nserver:      L.GTLD-SERVERS.NET 192.41.162.30 2001:500:d937:0:0:0:0:30\n",
            "nserver:      M.GTLD-SERVERS.NET 192.55.83.30 2001:501:b1f9:0:0:0:0:30\n",
            "ds-rdata:     19718 13 2 8acbb0cd28f41250a80a491389424d341522d946b0da0c0291f2d3d771d7805a\n",
            "\n",
            "whois:        whois.verisign-grs.com\n",
            "\n",
            "status:       ACTIVE\n",
            "remarks:      Registration information: http://www.verisigninc.com\n",
            "\n",
            "created:      1985-01-01\n",
            "changed:      2023-12-07\n",
            "source:       IANA\n",
            "\n",
            "\n"
          ]
        }
      ]
    },
    {
      "cell_type": "markdown",
      "source": [
        "Resources: https://www.youtube.com/watch?v=tbhYxd2sfAE, google colab"
      ],
      "metadata": {
        "id": "cE0f6BfEExK9"
      }
    }
  ]
}